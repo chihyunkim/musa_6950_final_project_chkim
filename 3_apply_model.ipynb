{
  "cells": [
    {
      "cell_type": "markdown",
      "id": "eiB7WGgGvTwr",
      "metadata": {
        "id": "eiB7WGgGvTwr"
      },
      "source": [
        "### Applying the trained model to test images"
      ]
    },
    {
      "cell_type": "markdown",
      "source": [
        "Here, the Old City images derived from Street View are evaluated using the trained model from script `0_train_model.ipynb`.\n",
        "\n",
        "The colab notebook link is: https://colab.research.google.com/drive/1ndJZ7xAZJlPct9nWqIADTT3F0X8cqY0y?usp=sharing"
      ],
      "metadata": {
        "id": "gtDNXKKTLrUw"
      },
      "id": "gtDNXKKTLrUw"
    },
    {
      "cell_type": "markdown",
      "id": "562e8e77",
      "metadata": {
        "id": "562e8e77"
      },
      "source": [
        "### Setting Up Your Python Environment"
      ]
    },
    {
      "cell_type": "code",
      "execution_count": 1,
      "id": "A8XYrxWnKQeC",
      "metadata": {
        "colab": {
          "base_uri": "https://localhost:8080/"
        },
        "id": "A8XYrxWnKQeC",
        "outputId": "8697bb4d-d852-4ad3-87a9-015427b161f2"
      },
      "outputs": [
        {
          "output_type": "stream",
          "name": "stdout",
          "text": [
            "2.6.0+cu124\n",
            "0.21.0+cu124\n"
          ]
        }
      ],
      "source": [
        "import torch\n",
        "import torchvision\n",
        "print(torch.__version__)\n",
        "print(torchvision.__version__)"
      ]
    },
    {
      "cell_type": "code",
      "execution_count": 2,
      "id": "6569af2c",
      "metadata": {
        "id": "6569af2c"
      },
      "outputs": [],
      "source": [
        "%%capture\n",
        "# Install utility packages\n",
        "!pip install cjm_pil_utils cjm_pytorch_utils"
      ]
    },
    {
      "cell_type": "markdown",
      "id": "3f835e2b",
      "metadata": {
        "id": "3f835e2b"
      },
      "source": [
        "### Importing the Required Dependencies"
      ]
    },
    {
      "cell_type": "code",
      "execution_count": 3,
      "id": "af4c9e24",
      "metadata": {
        "id": "af4c9e24"
      },
      "outputs": [],
      "source": [
        "# Import Python Standard Library dependencies\n",
        "import multiprocessing\n",
        "import os\n",
        "from pathlib import Path\n",
        "import random\n",
        "from typing import Any, Dict, Optional\n",
        "from functools import partial\n",
        "\n",
        "# Import utility functions\n",
        "# from cjm_psl_utils.core import download_file, file_extract, get_source_code\n",
        "from cjm_pil_utils.core import resize_img, get_img_files, stack_imgs\n",
        "from cjm_pytorch_utils.core import pil_to_tensor, tensor_to_pil, get_torch_device, set_seed, denorm_img_tensor, move_data_to_device\n",
        "# from cjm_pandas_utils.core import markdown_to_pandas, convert_to_numeric, convert_to_string\n",
        "# from cjm_torchvision_tfms.core import ResizeMax, PadSquare, CustomRandomIoUCrop\n",
        "\n",
        "# Import matplotlib for creating plots\n",
        "import matplotlib.pyplot as plt\n",
        "\n",
        "# Import numpy\n",
        "import numpy as np\n",
        "\n",
        "# Import the pandas package\n",
        "import pandas as pd\n",
        "\n",
        "# Set options for Pandas DataFrame display\n",
        "pd.set_option('max_colwidth', None)  # Do not truncate the contents of cells in the DataFrame\n",
        "pd.set_option('display.max_rows', None)  # Display all rows in the DataFrame\n",
        "pd.set_option('display.max_columns', None)  # Display all columns in the DataFrame\n",
        "\n",
        "# Import PIL for image manipulation\n",
        "from PIL import Image, ImageDraw\n",
        "\n",
        "# Import PyTorch dependencies\n",
        "import torch\n",
        "from torch.amp import autocast\n",
        "from torch.cuda.amp import GradScaler\n",
        "import torch.nn as nn\n",
        "import torch.nn.functional as F\n",
        "from torch.utils.data import Dataset, DataLoader\n",
        "import torchvision\n",
        "torchvision.disable_beta_transforms_warning()\n",
        "from torchvision.tv_tensors import BoundingBoxes, Mask\n",
        "from torchvision.utils import draw_bounding_boxes, draw_segmentation_masks\n",
        "import torchvision.transforms.v2  as transforms\n",
        "from torchvision.transforms.v2 import functional as TF\n",
        "\n",
        "# Import Mask R-CNN\n",
        "from torchvision.models.detection import maskrcnn_resnet50_fpn_v2, MaskRCNN\n",
        "from torchvision.models.detection import MaskRCNN_ResNet50_FPN_V2_Weights\n",
        "from torchvision.models.detection.faster_rcnn import FastRCNNPredictor\n",
        "from torchvision.models.detection.mask_rcnn import MaskRCNNPredictor"
      ]
    },
    {
      "cell_type": "code",
      "source": [
        "from google.colab import data_table\n",
        "data_table.enable_dataframe_formatter()"
      ],
      "metadata": {
        "id": "j3xM3Awp_MME"
      },
      "id": "j3xM3Awp_MME",
      "execution_count": 86,
      "outputs": []
    },
    {
      "cell_type": "markdown",
      "source": [
        "### Load trained model and prepare it to evaluate"
      ],
      "metadata": {
        "id": "X-WPPtYsVInH"
      },
      "id": "X-WPPtYsVInH"
    },
    {
      "cell_type": "code",
      "execution_count": 103,
      "id": "JupfcmNrHqIK",
      "metadata": {
        "id": "JupfcmNrHqIK",
        "colab": {
          "base_uri": "https://localhost:8080/"
        },
        "outputId": "5070f847-e1a8-4407-dcb5-43f602ac6cca"
      },
      "outputs": [
        {
          "output_type": "stream",
          "name": "stdout",
          "text": [
            "Mounted at /content/drive\n"
          ]
        }
      ],
      "source": [
        "from google.colab import drive\n",
        "drive.mount('/content/drive', force_remount=True)"
      ]
    },
    {
      "cell_type": "code",
      "source": [
        "# Load the serialized model parameters\n",
        "model_loaded = maskrcnn_resnet50_fpn_v2()\n",
        "\n",
        "# Get the number of input features for the classifier\n",
        "in_features_box = model_loaded.roi_heads.box_predictor.cls_score.in_features\n",
        "in_features_mask = model_loaded.roi_heads.mask_predictor.conv5_mask.in_channels\n",
        "\n",
        "# Get the numbner of output channels for the Mask Predictor\n",
        "dim_reduced = model_loaded.roi_heads.mask_predictor.conv5_mask.out_channels\n",
        "\n",
        "# Replace the box predictor\n",
        "model_loaded.roi_heads.box_predictor = FastRCNNPredictor(in_channels=in_features_box, num_classes=2)\n",
        "\n",
        "# Replace the mask predictor\n",
        "model_loaded.roi_heads.mask_predictor = MaskRCNNPredictor(in_channels=in_features_mask, dim_reduced=dim_reduced, num_classes=2)\n",
        "\n",
        "# Load pre-trained parameters\n",
        "model_loaded.load_state_dict(torch.load('./drive/MyDrive/MaskRCNN_custom.pth'))\n",
        "\n",
        "# Set the model to evaluation mode\n",
        "model_loaded.eval();\n",
        "\n",
        "# Set device\n",
        "device = torch.device(\"cpu\")"
      ],
      "metadata": {
        "id": "7V3RHRtwTCsp"
      },
      "id": "7V3RHRtwTCsp",
      "execution_count": 4,
      "outputs": []
    },
    {
      "cell_type": "markdown",
      "id": "-xthmdiwwMaP",
      "metadata": {
        "id": "-xthmdiwwMaP"
      },
      "source": [
        "### Prepare for testing"
      ]
    },
    {
      "cell_type": "code",
      "source": [
        "def get_all_files_with_path(directory):\n",
        "    file_paths = []\n",
        "    for root, _, files in os.walk(directory):\n",
        "        for file in files:\n",
        "            file_path = os.path.join(root, file)\n",
        "            file_paths.append(file_path)\n",
        "    return file_paths"
      ],
      "metadata": {
        "id": "DS_xgcbQLVOZ"
      },
      "id": "DS_xgcbQLVOZ",
      "execution_count": 104,
      "outputs": []
    },
    {
      "cell_type": "code",
      "source": [
        "# For each file, run model on image: return True if at least one bench object is found at the 0.9 threshold\n",
        "\n",
        "def predict_on_images(files):\n",
        "\n",
        "  results_list = []\n",
        "\n",
        "  for file in files:\n",
        "    test_img = Image.open(file).convert('RGB')\n",
        "    input_img = resize_img(test_img, target_sz=512, divisor=1)\n",
        "\n",
        "    # Ensure the model and input data are on the same device\n",
        "    model_loaded.to(device)\n",
        "    input_tensor = transforms.Compose([transforms.ToImage(), transforms.ToDtype(torch.float32, scale=True)])(input_img)[None].to(device)\n",
        "\n",
        "    # Make a prediction with the model\n",
        "    with torch.no_grad():\n",
        "      model_output = model_loaded(input_tensor)\n",
        "\n",
        "    # Set the confidence threshold\n",
        "    threshold = 0.9\n",
        "\n",
        "    # Specify class names\n",
        "    class_names = ['background'] + ['bench']\n",
        "\n",
        "    # Filter the output based on the confidence threshold\n",
        "    scores_mask = model_output[0]['scores'] > threshold\n",
        "\n",
        "    # Save and print characteristics of image after prediction\n",
        "    metric = any(scores_mask)\n",
        "    results = [file, metric]\n",
        "    print(results)\n",
        "    results_list.append(results)\n",
        "\n",
        "  results_df = pd.DataFrame(results_list, columns=['filename', 'predicted_result']).sort_values(by='filename')\n",
        "\n",
        "  return results_df"
      ],
      "metadata": {
        "id": "aploZJu54MFl"
      },
      "id": "aploZJu54MFl",
      "execution_count": 117,
      "outputs": []
    },
    {
      "cell_type": "markdown",
      "source": [
        "## Perform testing\n",
        "\n",
        "For the purposes of evaluating model performance, the input images (none of which were part of the training imageset) were screened by the author manually and the images containing valid 'bench' instances were separated. The 'True' and 'False' test images are evaluated below."
      ],
      "metadata": {
        "id": "EAJ80YKqI2sx"
      },
      "id": "EAJ80YKqI2sx"
    },
    {
      "cell_type": "code",
      "source": [
        "dataset_path_true = './drive/MyDrive/street_view_images_true'\n",
        "\n",
        "files_true = get_all_files_with_path(dataset_path_true)\n",
        "\n",
        "print(len(files_true))"
      ],
      "metadata": {
        "colab": {
          "base_uri": "https://localhost:8080/"
        },
        "id": "ciQxpKet_y-Y",
        "outputId": "837a863e-ebad-444d-f10e-57e7e63185d1"
      },
      "id": "ciQxpKet_y-Y",
      "execution_count": 114,
      "outputs": [
        {
          "output_type": "stream",
          "name": "stdout",
          "text": [
            "16\n"
          ]
        }
      ]
    },
    {
      "cell_type": "code",
      "source": [
        "results_true = predict_on_images(files_true)"
      ],
      "metadata": {
        "colab": {
          "base_uri": "https://localhost:8080/"
        },
        "id": "k2noWHhf_MVL",
        "outputId": "fb6146dd-1f21-4db2-abc4-bb068a9e548c"
      },
      "id": "k2noWHhf_MVL",
      "execution_count": 111,
      "outputs": [
        {
          "output_type": "stream",
          "name": "stdout",
          "text": [
            "['./drive/MyDrive/street_view_images_true/file_119.jpg', True]\n",
            "['./drive/MyDrive/street_view_images_true/file_496.jpg', True]\n",
            "['./drive/MyDrive/street_view_images_true/file_118.jpg', True]\n",
            "['./drive/MyDrive/street_view_images_true/file_490.jpg', True]\n",
            "['./drive/MyDrive/street_view_images_true/file_482.jpg', True]\n",
            "['./drive/MyDrive/street_view_images_true/file_324.jpg', True]\n",
            "['./drive/MyDrive/street_view_images_true/file_156.jpg', True]\n",
            "['./drive/MyDrive/street_view_images_true/file_499.jpg', False]\n",
            "['./drive/MyDrive/street_view_images_true/file_481.jpg', False]\n",
            "['./drive/MyDrive/street_view_images_true/file_44.jpg', True]\n",
            "['./drive/MyDrive/street_view_images_true/file_43.jpg', False]\n",
            "['./drive/MyDrive/street_view_images_true/file_215.jpg', True]\n",
            "['./drive/MyDrive/street_view_images_true/file_483.jpg', False]\n",
            "['./drive/MyDrive/street_view_images_true/file_310.jpg', True]\n",
            "['./drive/MyDrive/street_view_images_true/file_488.jpg', False]\n",
            "['./drive/MyDrive/street_view_images_true/file_498.jpg', False]\n"
          ]
        }
      ]
    },
    {
      "cell_type": "code",
      "source": [
        "dataset_path_false = './drive/MyDrive/street_view_images_false'\n",
        "\n",
        "files_false = get_all_files_with_path(dataset_path_false)\n",
        "\n",
        "print(len(files_false))"
      ],
      "metadata": {
        "colab": {
          "base_uri": "https://localhost:8080/"
        },
        "id": "Lutd9u2RBtZt",
        "outputId": "df9f229b-e581-4081-a330-521f6b15d970"
      },
      "id": "Lutd9u2RBtZt",
      "execution_count": 118,
      "outputs": [
        {
          "output_type": "stream",
          "name": "stdout",
          "text": [
            "480\n"
          ]
        }
      ]
    },
    {
      "cell_type": "code",
      "source": [
        "results_false = predict_on_images(files_false)"
      ],
      "metadata": {
        "colab": {
          "base_uri": "https://localhost:8080/"
        },
        "id": "P_GfB-xKGHQb",
        "outputId": "ac1f0b3f-cef9-46fd-f179-befc8327ea77"
      },
      "id": "P_GfB-xKGHQb",
      "execution_count": 119,
      "outputs": [
        {
          "output_type": "stream",
          "name": "stdout",
          "text": [
            "['./drive/MyDrive/street_view_images_false/file_212.jpg', False]\n",
            "['./drive/MyDrive/street_view_images_false/file_206.jpg', False]\n",
            "['./drive/MyDrive/street_view_images_false/file_78.jpg', False]\n",
            "['./drive/MyDrive/street_view_images_false/file_366.jpg', True]\n",
            "['./drive/MyDrive/street_view_images_false/file_372.jpg', False]\n",
            "['./drive/MyDrive/street_view_images_false/file_428.jpg', False]\n",
            "['./drive/MyDrive/street_view_images_false/file_399.jpg', False]\n",
            "['./drive/MyDrive/street_view_images_false/file_400.jpg', False]\n",
            "['./drive/MyDrive/street_view_images_false/file_164.jpg', False]\n",
            "['./drive/MyDrive/street_view_images_false/file_373.jpg', False]\n",
            "['./drive/MyDrive/street_view_images_false/file_86.jpg', False]\n",
            "['./drive/MyDrive/street_view_images_false/file_398.jpg', False]\n",
            "['./drive/MyDrive/street_view_images_false/file_213.jpg', False]\n",
            "['./drive/MyDrive/street_view_images_false/file_79.jpg', False]\n",
            "['./drive/MyDrive/street_view_images_false/file_92.jpg', False]\n",
            "['./drive/MyDrive/street_view_images_false/file_401.jpg', True]\n",
            "['./drive/MyDrive/street_view_images_false/file_415.jpg', False]\n",
            "['./drive/MyDrive/street_view_images_false/file_45.jpg', False]\n",
            "['./drive/MyDrive/street_view_images_false/file_51.jpg', False]\n",
            "['./drive/MyDrive/street_view_images_false/file_414.jpg', False]\n",
            "['./drive/MyDrive/street_view_images_false/file_170.jpg', False]\n",
            "['./drive/MyDrive/street_view_images_false/file_171.jpg', False]\n",
            "['./drive/MyDrive/street_view_images_false/file_165.jpg', False]\n",
            "['./drive/MyDrive/street_view_images_false/file_429.jpg', True]\n",
            "['./drive/MyDrive/street_view_images_false/file_367.jpg', False]\n",
            "['./drive/MyDrive/street_view_images_false/file_207.jpg', False]\n",
            "['./drive/MyDrive/street_view_images_false/file_407.jpg', False]\n",
            "['./drive/MyDrive/street_view_images_false/file_229.jpg', False]\n",
            "['./drive/MyDrive/street_view_images_false/file_375.jpg', False]\n",
            "['./drive/MyDrive/street_view_images_false/file_413.jpg', True]\n",
            "['./drive/MyDrive/street_view_images_false/file_201.jpg', False]\n",
            "['./drive/MyDrive/street_view_images_false/file_349.jpg', False]\n",
            "['./drive/MyDrive/street_view_images_false/file_361.jpg', False]\n",
            "['./drive/MyDrive/street_view_images_false/file_57.jpg', False]\n",
            "['./drive/MyDrive/street_view_images_false/file_53.jpg', False]\n",
            "['./drive/MyDrive/street_view_images_false/file_90.jpg', False]\n",
            "['./drive/MyDrive/street_view_images_false/file_211.jpg', False]\n",
            "['./drive/MyDrive/street_view_images_false/file_84.jpg', False]\n",
            "['./drive/MyDrive/street_view_images_false/file_198.jpg', False]\n",
            "['./drive/MyDrive/street_view_images_false/file_417.jpg', False]\n",
            "['./drive/MyDrive/street_view_images_false/file_359.jpg', True]\n",
            "['./drive/MyDrive/street_view_images_false/file_205.jpg', False]\n",
            "['./drive/MyDrive/street_view_images_false/file_371.jpg', False]\n",
            "['./drive/MyDrive/street_view_images_false/file_402.jpg', False]\n",
            "['./drive/MyDrive/street_view_images_false/file_365.jpg', True]\n",
            "['./drive/MyDrive/street_view_images_false/file_403.jpg', False]\n",
            "['./drive/MyDrive/street_view_images_false/file_358.jpg', False]\n",
            "['./drive/MyDrive/street_view_images_false/file_167.jpg', False]\n",
            "['./drive/MyDrive/street_view_images_false/file_173.jpg', False]\n",
            "['./drive/MyDrive/street_view_images_false/file_364.jpg', False]\n",
            "['./drive/MyDrive/street_view_images_false/file_199.jpg', False]\n",
            "['./drive/MyDrive/street_view_images_false/file_172.jpg', False]\n",
            "['./drive/MyDrive/street_view_images_false/file_80.jpg', False]\n",
            "['./drive/MyDrive/street_view_images_false/file_94.jpg', False]\n",
            "['./drive/MyDrive/street_view_images_false/file_416.jpg', True]\n",
            "['./drive/MyDrive/street_view_images_false/file_87.jpg', False]\n",
            "['./drive/MyDrive/street_view_images_false/file_204.jpg', False]\n",
            "['./drive/MyDrive/street_view_images_false/file_52.jpg', False]\n",
            "['./drive/MyDrive/street_view_images_false/file_93.jpg', False]\n",
            "['./drive/MyDrive/street_view_images_false/file_91.jpg', False]\n",
            "['./drive/MyDrive/street_view_images_false/file_210.jpg', False]\n",
            "['./drive/MyDrive/street_view_images_false/file_46.jpg', True]\n",
            "['./drive/MyDrive/street_view_images_false/file_85.jpg', False]\n",
            "['./drive/MyDrive/street_view_images_false/file_370.jpg', False]\n",
            "['./drive/MyDrive/street_view_images_false/file_50.jpg', False]\n",
            "['./drive/MyDrive/street_view_images_false/file_489.jpg', False]\n",
            "['./drive/MyDrive/street_view_images_false/file_338.jpg', False]\n",
            "['./drive/MyDrive/street_view_images_false/file_270.jpg', False]\n",
            "['./drive/MyDrive/street_view_images_false/file_6.jpg', False]\n",
            "['./drive/MyDrive/street_view_images_false/file_264.jpg', False]\n",
            "['./drive/MyDrive/street_view_images_false/file_304.jpg', False]\n",
            "['./drive/MyDrive/street_view_images_false/file_462.jpg', False]\n",
            "['./drive/MyDrive/street_view_images_false/file_476.jpg', False]\n",
            "['./drive/MyDrive/street_view_images_false/file_258.jpg', False]\n",
            "['./drive/MyDrive/street_view_images_false/file_32.jpg', False]\n",
            "['./drive/MyDrive/street_view_images_false/file_388.jpg', False]\n",
            "['./drive/MyDrive/street_view_images_false/file_174.jpg', False]\n",
            "['./drive/MyDrive/street_view_images_false/file_203.jpg', True]\n",
            "['./drive/MyDrive/street_view_images_false/file_411.jpg', False]\n",
            "['./drive/MyDrive/street_view_images_false/file_55.jpg', False]\n",
            "['./drive/MyDrive/street_view_images_false/file_377.jpg', False]\n",
            "['./drive/MyDrive/street_view_images_false/file_410.jpg', False]\n",
            "['./drive/MyDrive/street_view_images_false/file_175.jpg', False]\n",
            "['./drive/MyDrive/street_view_images_false/file_149.jpg', False]\n",
            "['./drive/MyDrive/street_view_images_false/file_376.jpg', False]\n",
            "['./drive/MyDrive/street_view_images_false/file_405.jpg', True]\n",
            "['./drive/MyDrive/street_view_images_false/file_40.jpg', False]\n",
            "['./drive/MyDrive/street_view_images_false/file_161.jpg', False]\n",
            "['./drive/MyDrive/street_view_images_false/file_148.jpg', False]\n",
            "['./drive/MyDrive/street_view_images_false/file_202.jpg', True]\n",
            "['./drive/MyDrive/street_view_images_false/file_389.jpg', False]\n",
            "['./drive/MyDrive/street_view_images_false/file_362.jpg', False]\n",
            "['./drive/MyDrive/street_view_images_false/file_216.jpg', False]\n",
            "['./drive/MyDrive/street_view_images_false/file_160.jpg', False]\n",
            "['./drive/MyDrive/street_view_images_false/file_82.jpg', False]\n",
            "['./drive/MyDrive/street_view_images_false/file_96.jpg', False]\n",
            "['./drive/MyDrive/street_view_images_false/file_69.jpg', False]\n",
            "['./drive/MyDrive/street_view_images_false/file_217.jpg', False]\n",
            "['./drive/MyDrive/street_view_images_false/file_363.jpg', False]\n",
            "['./drive/MyDrive/street_view_images_false/file_439.jpg', False]\n",
            "['./drive/MyDrive/street_view_images_false/file_41.jpg', False]\n",
            "['./drive/MyDrive/street_view_images_false/file_54.jpg', False]\n",
            "['./drive/MyDrive/street_view_images_false/file_438.jpg', False]\n",
            "['./drive/MyDrive/street_view_images_false/file_68.jpg', False]\n",
            "['./drive/MyDrive/street_view_images_false/file_404.jpg', True]\n",
            "['./drive/MyDrive/street_view_images_false/file_83.jpg', False]\n",
            "['./drive/MyDrive/street_view_images_false/file_214.jpg', False]\n",
            "['./drive/MyDrive/street_view_images_false/file_374.jpg', False]\n",
            "['./drive/MyDrive/street_view_images_false/file_56.jpg', False]\n",
            "['./drive/MyDrive/street_view_images_false/file_95.jpg', False]\n",
            "['./drive/MyDrive/street_view_images_false/file_97.jpg', False]\n",
            "['./drive/MyDrive/street_view_images_false/file_81.jpg', False]\n",
            "['./drive/MyDrive/street_view_images_false/file_348.jpg', True]\n",
            "['./drive/MyDrive/street_view_images_false/file_200.jpg', False]\n",
            "['./drive/MyDrive/street_view_images_false/file_228.jpg', False]\n",
            "['./drive/MyDrive/street_view_images_false/file_42.jpg', False]\n",
            "['./drive/MyDrive/street_view_images_false/file_189.jpg', False]\n",
            "['./drive/MyDrive/street_view_images_false/file_176.jpg', False]\n",
            "['./drive/MyDrive/street_view_images_false/file_163.jpg', False]\n",
            "['./drive/MyDrive/street_view_images_false/file_412.jpg', True]\n",
            "['./drive/MyDrive/street_view_images_false/file_406.jpg', False]\n",
            "['./drive/MyDrive/street_view_images_false/file_177.jpg', False]\n",
            "['./drive/MyDrive/street_view_images_false/file_360.jpg', False]\n",
            "['./drive/MyDrive/street_view_images_false/file_188.jpg', True]\n",
            "['./drive/MyDrive/street_view_images_false/file_162.jpg', False]\n",
            "['./drive/MyDrive/street_view_images_false/file_312.jpg', False]\n",
            "['./drive/MyDrive/street_view_images_false/file_4.jpg', False]\n",
            "['./drive/MyDrive/street_view_images_false/file_139.jpg', False]\n",
            "['./drive/MyDrive/street_view_images_false/file_5.jpg', False]\n",
            "['./drive/MyDrive/street_view_images_false/file_105.jpg', False]\n",
            "['./drive/MyDrive/street_view_images_false/file_461.jpg', False]\n",
            "['./drive/MyDrive/street_view_images_false/file_111.jpg', False]\n",
            "['./drive/MyDrive/street_view_images_false/file_104.jpg', True]\n",
            "['./drive/MyDrive/street_view_images_false/file_449.jpg', False]\n",
            "['./drive/MyDrive/street_view_images_false/file_298.jpg', False]\n",
            "['./drive/MyDrive/street_view_images_false/file_138.jpg', False]\n",
            "['./drive/MyDrive/street_view_images_false/file_307.jpg', True]\n",
            "['./drive/MyDrive/street_view_images_false/file_313.jpg', False]\n",
            "['./drive/MyDrive/street_view_images_false/file_272.jpg', False]\n",
            "['./drive/MyDrive/street_view_images_false/file_299.jpg', False]\n",
            "['./drive/MyDrive/street_view_images_false/file_460.jpg', False]\n",
            "['./drive/MyDrive/street_view_images_false/file_448.jpg', True]\n",
            "['./drive/MyDrive/street_view_images_false/file_474.jpg', False]\n",
            "['./drive/MyDrive/street_view_images_false/file_306.jpg', False]\n",
            "['./drive/MyDrive/street_view_images_false/file_110.jpg', False]\n",
            "['./drive/MyDrive/street_view_images_false/file_33.jpg', True]\n",
            "['./drive/MyDrive/street_view_images_false/file_273.jpg', False]\n",
            "['./drive/MyDrive/street_view_images_false/file_271.jpg', False]\n",
            "['./drive/MyDrive/street_view_images_false/file_19.jpg', False]\n",
            "['./drive/MyDrive/street_view_images_false/file_503.jpg', False]\n",
            "['./drive/MyDrive/street_view_images_false/file_265.jpg', False]\n",
            "['./drive/MyDrive/street_view_images_false/file_25.jpg', False]\n",
            "['./drive/MyDrive/street_view_images_false/file_501.jpg', False]\n",
            "['./drive/MyDrive/street_view_images_false/file_267.jpg', False]\n",
            "['./drive/MyDrive/street_view_images_false/file_31.jpg', False]\n",
            "['./drive/MyDrive/street_view_images_false/file_477.jpg', False]\n",
            "['./drive/MyDrive/street_view_images_false/file_107.jpg', False]\n",
            "['./drive/MyDrive/street_view_images_false/file_106.jpg', False]\n",
            "['./drive/MyDrive/street_view_images_false/file_339.jpg', False]\n",
            "['./drive/MyDrive/street_view_images_false/file_463.jpg', False]\n",
            "['./drive/MyDrive/street_view_images_false/file_305.jpg', False]\n",
            "['./drive/MyDrive/street_view_images_false/file_259.jpg', False]\n",
            "['./drive/MyDrive/street_view_images_false/file_7.jpg', False]\n",
            "['./drive/MyDrive/street_view_images_false/file_113.jpg', False]\n",
            "['./drive/MyDrive/street_view_images_false/file_112.jpg', False]\n",
            "['./drive/MyDrive/street_view_images_false/file_117.jpg', False]\n",
            "['./drive/MyDrive/street_view_images_false/file_467.jpg', False]\n",
            "['./drive/MyDrive/street_view_images_false/file_301.jpg', False]\n",
            "['./drive/MyDrive/street_view_images_false/file_329.jpg', False]\n",
            "['./drive/MyDrive/street_view_images_false/file_3.jpg', False]\n",
            "['./drive/MyDrive/street_view_images_false/file_315.jpg', False]\n",
            "['./drive/MyDrive/street_view_images_false/file_103.jpg', False]\n",
            "['./drive/MyDrive/street_view_images_false/file_473.jpg', False]\n",
            "['./drive/MyDrive/street_view_images_false/file_261.jpg', False]\n",
            "['./drive/MyDrive/street_view_images_false/file_275.jpg', False]\n",
            "['./drive/MyDrive/street_view_images_false/file_23.jpg', False]\n",
            "['./drive/MyDrive/street_view_images_false/file_511.jpg', False]\n",
            "['./drive/MyDrive/street_view_images_false/file_263.jpg', False]\n",
            "['./drive/MyDrive/street_view_images_false/file_505.jpg', True]\n",
            "['./drive/MyDrive/street_view_images_false/file_277.jpg', False]\n",
            "['./drive/MyDrive/street_view_images_false/file_21.jpg', False]\n",
            "['./drive/MyDrive/street_view_images_false/file_471.jpg', False]\n",
            "['./drive/MyDrive/street_view_images_false/file_115.jpg', False]\n",
            "['./drive/MyDrive/street_view_images_false/file_465.jpg', False]\n",
            "['./drive/MyDrive/street_view_images_false/file_317.jpg', False]\n",
            "['./drive/MyDrive/street_view_images_false/file_303.jpg', False]\n",
            "['./drive/MyDrive/street_view_images_false/file_1.jpg', False]\n",
            "['./drive/MyDrive/street_view_images_false/file_101.jpg', True]\n",
            "['./drive/MyDrive/street_view_images_false/file_459.jpg', False]\n",
            "['./drive/MyDrive/street_view_images_false/file_100.jpg', False]\n",
            "['./drive/MyDrive/street_view_images_false/file_129.jpg', True]\n",
            "['./drive/MyDrive/street_view_images_false/file_35.jpg', False]\n",
            "['./drive/MyDrive/street_view_images_false/file_37.jpg', False]\n",
            "['./drive/MyDrive/street_view_images_false/file_288.jpg', True]\n",
            "['./drive/MyDrive/street_view_images_false/file_289.jpg', False]\n",
            "['./drive/MyDrive/street_view_images_false/file_316.jpg', False]\n",
            "['./drive/MyDrive/street_view_images_false/file_114.jpg', False]\n",
            "['./drive/MyDrive/street_view_images_false/file_458.jpg', True]\n",
            "['./drive/MyDrive/street_view_images_false/file_128.jpg', True]\n",
            "['./drive/MyDrive/street_view_images_false/file_464.jpg', False]\n",
            "['./drive/MyDrive/street_view_images_false/file_0.jpg', False]\n",
            "['./drive/MyDrive/street_view_images_false/file_34.jpg', True]\n",
            "['./drive/MyDrive/street_view_images_false/file_24.jpg', False]\n",
            "['./drive/MyDrive/street_view_images_false/file_470.jpg', True]\n",
            "['./drive/MyDrive/street_view_images_false/file_510.jpg', False]\n",
            "['./drive/MyDrive/street_view_images_false/file_302.jpg', False]\n",
            "['./drive/MyDrive/street_view_images_false/file_276.jpg', False]\n",
            "['./drive/MyDrive/street_view_images_false/file_20.jpg', False]\n",
            "['./drive/MyDrive/street_view_images_false/file_18.jpg', False]\n",
            "['./drive/MyDrive/street_view_images_false/file_266.jpg', False]\n",
            "['./drive/MyDrive/street_view_images_false/file_504.jpg', True]\n",
            "['./drive/MyDrive/street_view_images_false/file_500.jpg', False]\n",
            "['./drive/MyDrive/street_view_images_false/file_30.jpg', False]\n",
            "['./drive/MyDrive/street_view_images_false/file_262.jpg', False]\n",
            "['./drive/MyDrive/street_view_images_false/file_291.jpg', False]\n",
            "['./drive/MyDrive/street_view_images_false/file_468.jpg', False]\n",
            "['./drive/MyDrive/street_view_images_false/file_250.jpg', False]\n",
            "['./drive/MyDrive/street_view_images_false/file_278.jpg', True]\n",
            "['./drive/MyDrive/street_view_images_false/file_508.jpg', False]\n",
            "['./drive/MyDrive/street_view_images_false/file_330.jpg', False]\n",
            "['./drive/MyDrive/street_view_images_false/file_285.jpg', False]\n",
            "['./drive/MyDrive/street_view_images_false/file_246.jpg', False]\n",
            "['./drive/MyDrive/street_view_images_false/file_38.jpg', True]\n",
            "['./drive/MyDrive/street_view_images_false/file_252.jpg', True]\n",
            "['./drive/MyDrive/street_view_images_false/file_442.jpg', False]\n",
            "['./drive/MyDrive/street_view_images_false/file_326.jpg', False]\n",
            "['./drive/MyDrive/street_view_images_false/file_456.jpg', True]\n",
            "['./drive/MyDrive/street_view_images_false/file_10.jpg', False]\n",
            "['./drive/MyDrive/street_view_images_false/file_293.jpg', False]\n",
            "['./drive/MyDrive/street_view_images_false/file_454.jpg', False]\n",
            "['./drive/MyDrive/street_view_images_false/file_244.jpg', False]\n",
            "['./drive/MyDrive/street_view_images_false/file_440.jpg', False]\n",
            "['./drive/MyDrive/street_view_images_false/file_287.jpg', True]\n",
            "['./drive/MyDrive/street_view_images_false/file_497.jpg', False]\n",
            "['./drive/MyDrive/street_view_images_false/file_457.jpg', False]\n",
            "['./drive/MyDrive/street_view_images_false/file_133.jpg', False]\n",
            "['./drive/MyDrive/street_view_images_false/file_318.jpg', False]\n",
            "['./drive/MyDrive/street_view_images_false/file_126.jpg', False]\n",
            "['./drive/MyDrive/street_view_images_false/file_495.jpg', False]\n",
            "['./drive/MyDrive/street_view_images_false/file_494.jpg', False]\n",
            "['./drive/MyDrive/street_view_images_false/file_132.jpg', False]\n",
            "['./drive/MyDrive/street_view_images_false/file_480.jpg', True]\n",
            "['./drive/MyDrive/street_view_images_false/file_127.jpg', False]\n",
            "['./drive/MyDrive/street_view_images_false/file_319.jpg', False]\n",
            "['./drive/MyDrive/street_view_images_false/file_251.jpg', False]\n",
            "['./drive/MyDrive/street_view_images_false/file_325.jpg', False]\n",
            "['./drive/MyDrive/street_view_images_false/file_331.jpg', False]\n",
            "['./drive/MyDrive/street_view_images_false/file_286.jpg', False]\n",
            "['./drive/MyDrive/street_view_images_false/file_292.jpg', False]\n",
            "['./drive/MyDrive/street_view_images_false/file_279.jpg', False]\n",
            "['./drive/MyDrive/street_view_images_false/file_245.jpg', False]\n",
            "['./drive/MyDrive/street_view_images_false/file_443.jpg', False]\n",
            "['./drive/MyDrive/street_view_images_false/file_22.jpg', True]\n",
            "['./drive/MyDrive/street_view_images_false/file_274.jpg', False]\n",
            "['./drive/MyDrive/street_view_images_false/file_300.jpg', False]\n",
            "['./drive/MyDrive/street_view_images_false/file_2.jpg', False]\n",
            "['./drive/MyDrive/street_view_images_false/file_260.jpg', True]\n",
            "['./drive/MyDrive/street_view_images_false/file_466.jpg', False]\n",
            "['./drive/MyDrive/street_view_images_false/file_506.jpg', False]\n",
            "['./drive/MyDrive/street_view_images_false/file_102.jpg', False]\n",
            "['./drive/MyDrive/street_view_images_false/file_328.jpg', False]\n",
            "['./drive/MyDrive/street_view_images_false/file_314.jpg', False]\n",
            "['./drive/MyDrive/street_view_images_false/file_116.jpg', False]\n",
            "['./drive/MyDrive/street_view_images_false/file_472.jpg', False]\n",
            "['./drive/MyDrive/street_view_images_false/file_36.jpg', False]\n",
            "['./drive/MyDrive/street_view_images_false/file_254.jpg', True]\n",
            "['./drive/MyDrive/street_view_images_false/file_281.jpg', False]\n",
            "['./drive/MyDrive/street_view_images_false/file_478.jpg', False]\n",
            "['./drive/MyDrive/street_view_images_false/file_450.jpg', False]\n",
            "['./drive/MyDrive/street_view_images_false/file_134.jpg', False]\n",
            "['./drive/MyDrive/street_view_images_false/file_444.jpg', False]\n",
            "['./drive/MyDrive/street_view_images_false/file_108.jpg', False]\n",
            "['./drive/MyDrive/street_view_images_false/file_322.jpg', False]\n",
            "['./drive/MyDrive/street_view_images_false/file_487.jpg', False]\n",
            "['./drive/MyDrive/street_view_images_false/file_336.jpg', False]\n",
            "['./drive/MyDrive/street_view_images_false/file_8.jpg', False]\n",
            "['./drive/MyDrive/street_view_images_false/file_493.jpg', False]\n",
            "['./drive/MyDrive/street_view_images_false/file_486.jpg', False]\n",
            "['./drive/MyDrive/street_view_images_false/file_135.jpg', False]\n",
            "['./drive/MyDrive/street_view_images_false/file_9.jpg', False]\n",
            "['./drive/MyDrive/street_view_images_false/file_120.jpg', False]\n",
            "['./drive/MyDrive/street_view_images_false/file_109.jpg', False]\n",
            "['./drive/MyDrive/street_view_images_false/file_121.jpg', False]\n",
            "['./drive/MyDrive/street_view_images_false/file_492.jpg', True]\n",
            "['./drive/MyDrive/street_view_images_false/file_451.jpg', False]\n",
            "['./drive/MyDrive/street_view_images_false/file_337.jpg', False]\n",
            "['./drive/MyDrive/street_view_images_false/file_323.jpg', False]\n",
            "['./drive/MyDrive/street_view_images_false/file_445.jpg', False]\n",
            "['./drive/MyDrive/street_view_images_false/file_280.jpg', False]\n",
            "['./drive/MyDrive/street_view_images_false/file_290.jpg', False]\n",
            "['./drive/MyDrive/street_view_images_false/file_294.jpg', False]\n",
            "['./drive/MyDrive/street_view_images_false/file_247.jpg', False]\n",
            "['./drive/MyDrive/street_view_images_false/file_479.jpg', False]\n",
            "['./drive/MyDrive/street_view_images_false/file_11.jpg', True]\n",
            "['./drive/MyDrive/street_view_images_false/file_29.jpg', False]\n",
            "['./drive/MyDrive/street_view_images_false/file_131.jpg', False]\n",
            "['./drive/MyDrive/street_view_images_false/file_455.jpg', False]\n",
            "['./drive/MyDrive/street_view_images_false/file_124.jpg', False]\n",
            "['./drive/MyDrive/street_view_images_false/file_125.jpg', False]\n",
            "['./drive/MyDrive/street_view_images_false/file_253.jpg', False]\n",
            "['./drive/MyDrive/street_view_images_false/file_441.jpg', False]\n",
            "['./drive/MyDrive/street_view_images_false/file_327.jpg', False]\n",
            "['./drive/MyDrive/street_view_images_false/file_284.jpg', False]\n",
            "['./drive/MyDrive/street_view_images_false/file_130.jpg', False]\n",
            "['./drive/MyDrive/street_view_images_false/file_509.jpg', False]\n",
            "['./drive/MyDrive/street_view_images_false/file_257.jpg', False]\n",
            "['./drive/MyDrive/street_view_images_false/file_469.jpg', False]\n",
            "['./drive/MyDrive/street_view_images_false/file_150.jpg', False]\n",
            "['./drive/MyDrive/street_view_images_false/file_144.jpg', False]\n",
            "['./drive/MyDrive/street_view_images_false/file_391.jpg', False]\n",
            "['./drive/MyDrive/street_view_images_false/file_434.jpg', False]\n",
            "['./drive/MyDrive/street_view_images_false/file_420.jpg', False]\n",
            "['./drive/MyDrive/street_view_images_false/file_352.jpg', False]\n",
            "['./drive/MyDrive/street_view_images_false/file_408.jpg', True]\n",
            "['./drive/MyDrive/street_view_images_false/file_346.jpg', True]\n",
            "['./drive/MyDrive/street_view_images_false/file_385.jpg', False]\n",
            "['./drive/MyDrive/street_view_images_false/file_232.jpg', False]\n",
            "['./drive/MyDrive/street_view_images_false/file_226.jpg', False]\n",
            "['./drive/MyDrive/street_view_images_false/file_282.jpg', False]\n",
            "['./drive/MyDrive/street_view_images_false/file_296.jpg', False]\n",
            "['./drive/MyDrive/street_view_images_false/file_70.jpg', False]\n",
            "['./drive/MyDrive/street_view_images_false/file_269.jpg', False]\n",
            "['./drive/MyDrive/street_view_images_false/file_58.jpg', False]\n",
            "['./drive/MyDrive/street_view_images_false/file_17.jpg', False]\n",
            "['./drive/MyDrive/street_view_images_false/file_309.jpg', False]\n",
            "['./drive/MyDrive/street_view_images_false/file_255.jpg', True]\n",
            "['./drive/MyDrive/street_view_images_false/file_484.jpg', False]\n",
            "['./drive/MyDrive/street_view_images_false/file_136.jpg', False]\n",
            "['./drive/MyDrive/street_view_images_false/file_334.jpg', False]\n",
            "['./drive/MyDrive/street_view_images_false/file_123.jpg', False]\n",
            "['./drive/MyDrive/street_view_images_false/file_485.jpg', False]\n",
            "['./drive/MyDrive/street_view_images_false/file_64.jpg', False]\n",
            "['./drive/MyDrive/street_view_images_false/file_122.jpg', False]\n",
            "['./drive/MyDrive/street_view_images_false/file_453.jpg', False]\n",
            "['./drive/MyDrive/street_view_images_false/file_137.jpg', False]\n",
            "['./drive/MyDrive/street_view_images_false/file_447.jpg', False]\n",
            "['./drive/MyDrive/street_view_images_false/file_335.jpg', False]\n",
            "['./drive/MyDrive/street_view_images_false/file_452.jpg', False]\n",
            "['./drive/MyDrive/street_view_images_false/file_283.jpg', False]\n",
            "['./drive/MyDrive/street_view_images_false/file_28.jpg', False]\n",
            "['./drive/MyDrive/street_view_images_false/file_297.jpg', False]\n",
            "['./drive/MyDrive/street_view_images_false/file_320.jpg', False]\n",
            "['./drive/MyDrive/street_view_images_false/file_256.jpg', False]\n",
            "['./drive/MyDrive/street_view_images_false/file_308.jpg', False]\n",
            "['./drive/MyDrive/street_view_images_false/file_16.jpg', False]\n",
            "['./drive/MyDrive/street_view_images_false/file_446.jpg', False]\n",
            "['./drive/MyDrive/street_view_images_false/file_182.jpg', True]\n",
            "['./drive/MyDrive/street_view_images_false/file_155.jpg', False]\n",
            "['./drive/MyDrive/street_view_images_false/file_394.jpg', False]\n",
            "['./drive/MyDrive/street_view_images_false/file_343.jpg', False]\n",
            "['./drive/MyDrive/street_view_images_false/file_380.jpg', False]\n",
            "['./drive/MyDrive/street_view_images_false/file_169.jpg', False]\n",
            "['./drive/MyDrive/street_view_images_false/file_431.jpg', False]\n",
            "['./drive/MyDrive/street_view_images_false/file_357.jpg', False]\n",
            "['./drive/MyDrive/street_view_images_false/file_75.jpg', False]\n",
            "['./drive/MyDrive/street_view_images_false/file_49.jpg', False]\n",
            "['./drive/MyDrive/street_view_images_false/file_209.jpg', False]\n",
            "['./drive/MyDrive/street_view_images_false/file_61.jpg', False]\n",
            "['./drive/MyDrive/street_view_images_false/file_237.jpg', False]\n",
            "['./drive/MyDrive/street_view_images_false/file_77.jpg', False]\n",
            "['./drive/MyDrive/street_view_images_false/file_223.jpg', False]\n",
            "['./drive/MyDrive/street_view_images_false/file_88.jpg', False]\n",
            "['./drive/MyDrive/street_view_images_false/file_396.jpg', False]\n",
            "['./drive/MyDrive/street_view_images_false/file_433.jpg', True]\n",
            "['./drive/MyDrive/street_view_images_false/file_221.jpg', False]\n",
            "['./drive/MyDrive/street_view_images_false/file_341.jpg', False]\n",
            "['./drive/MyDrive/street_view_images_false/file_235.jpg', False]\n",
            "['./drive/MyDrive/street_view_images_false/file_63.jpg', False]\n",
            "['./drive/MyDrive/street_view_images_false/file_369.jpg', False]\n",
            "['./drive/MyDrive/street_view_images_false/file_355.jpg', False]\n",
            "['./drive/MyDrive/street_view_images_false/file_427.jpg', False]\n",
            "['./drive/MyDrive/street_view_images_false/file_382.jpg', False]\n",
            "['./drive/MyDrive/street_view_images_false/file_157.jpg', False]\n",
            "['./drive/MyDrive/street_view_images_false/file_425.jpg', True]\n",
            "['./drive/MyDrive/street_view_images_false/file_141.jpg', True]\n",
            "['./drive/MyDrive/street_view_images_false/file_419.jpg', False]\n",
            "['./drive/MyDrive/street_view_images_false/file_194.jpg', False]\n",
            "['./drive/MyDrive/street_view_images_false/file_426.jpg', True]\n",
            "['./drive/MyDrive/street_view_images_false/file_383.jpg', False]\n",
            "['./drive/MyDrive/street_view_images_false/file_195.jpg', False]\n",
            "['./drive/MyDrive/street_view_images_false/file_340.jpg', False]\n",
            "['./drive/MyDrive/street_view_images_false/file_432.jpg', False]\n",
            "['./drive/MyDrive/street_view_images_false/file_142.jpg', False]\n",
            "['./drive/MyDrive/street_view_images_false/file_143.jpg', False]\n",
            "['./drive/MyDrive/street_view_images_false/file_368.jpg', False]\n",
            "['./drive/MyDrive/street_view_images_false/file_181.jpg', False]\n",
            "['./drive/MyDrive/street_view_images_false/file_220.jpg', False]\n",
            "['./drive/MyDrive/street_view_images_false/file_89.jpg', False]\n",
            "['./drive/MyDrive/street_view_images_false/file_62.jpg', False]\n",
            "['./drive/MyDrive/street_view_images_false/file_180.jpg', False]\n",
            "['./drive/MyDrive/street_view_images_false/file_208.jpg', False]\n",
            "['./drive/MyDrive/street_view_images_false/file_397.jpg', False]\n",
            "['./drive/MyDrive/street_view_images_false/file_99.jpg', False]\n",
            "['./drive/MyDrive/street_view_images_false/file_76.jpg', False]\n",
            "['./drive/MyDrive/street_view_images_false/file_234.jpg', False]\n",
            "['./drive/MyDrive/street_view_images_false/file_72.jpg', False]\n",
            "['./drive/MyDrive/street_view_images_false/file_436.jpg', False]\n",
            "['./drive/MyDrive/street_view_images_false/file_393.jpg', False]\n",
            "['./drive/MyDrive/street_view_images_false/file_224.jpg', False]\n",
            "['./drive/MyDrive/street_view_images_false/file_66.jpg', True]\n",
            "['./drive/MyDrive/street_view_images_false/file_152.jpg', False]\n",
            "['./drive/MyDrive/street_view_images_false/file_350.jpg', False]\n",
            "['./drive/MyDrive/street_view_images_false/file_422.jpg', False]\n",
            "['./drive/MyDrive/street_view_images_false/file_344.jpg', True]\n",
            "['./drive/MyDrive/street_view_images_false/file_230.jpg', False]\n",
            "['./drive/MyDrive/street_view_images_false/file_184.jpg', False]\n",
            "['./drive/MyDrive/street_view_images_false/file_191.jpg', False]\n",
            "['./drive/MyDrive/street_view_images_false/file_146.jpg', False]\n",
            "['./drive/MyDrive/street_view_images_false/file_387.jpg', False]\n",
            "['./drive/MyDrive/street_view_images_false/file_218.jpg', False]\n",
            "['./drive/MyDrive/street_view_images_false/file_147.jpg', False]\n",
            "['./drive/MyDrive/street_view_images_false/file_185.jpg', False]\n",
            "['./drive/MyDrive/street_view_images_false/file_351.jpg', False]\n",
            "['./drive/MyDrive/street_view_images_false/file_190.jpg', False]\n",
            "['./drive/MyDrive/street_view_images_false/file_153.jpg', False]\n",
            "['./drive/MyDrive/street_view_images_false/file_219.jpg', False]\n",
            "['./drive/MyDrive/street_view_images_false/file_423.jpg', False]\n",
            "['./drive/MyDrive/street_view_images_false/file_386.jpg', False]\n",
            "['./drive/MyDrive/street_view_images_false/file_392.jpg', False]\n",
            "['./drive/MyDrive/street_view_images_false/file_225.jpg', False]\n",
            "['./drive/MyDrive/street_view_images_false/file_345.jpg', False]\n",
            "['./drive/MyDrive/street_view_images_false/file_437.jpg', False]\n",
            "['./drive/MyDrive/street_view_images_false/file_73.jpg', False]\n",
            "['./drive/MyDrive/street_view_images_false/file_67.jpg', False]\n",
            "['./drive/MyDrive/street_view_images_false/file_231.jpg', False]\n",
            "['./drive/MyDrive/street_view_images_false/file_98.jpg', False]\n",
            "['./drive/MyDrive/street_view_images_false/file_71.jpg', False]\n",
            "['./drive/MyDrive/street_view_images_false/file_186.jpg', False]\n",
            "['./drive/MyDrive/street_view_images_false/file_145.jpg', False]\n",
            "['./drive/MyDrive/street_view_images_false/file_227.jpg', False]\n",
            "['./drive/MyDrive/street_view_images_false/file_179.jpg', False]\n",
            "['./drive/MyDrive/street_view_images_false/file_151.jpg', False]\n",
            "['./drive/MyDrive/street_view_images_false/file_347.jpg', False]\n",
            "['./drive/MyDrive/street_view_images_false/file_193.jpg', False]\n",
            "['./drive/MyDrive/street_view_images_false/file_65.jpg', False]\n",
            "['./drive/MyDrive/street_view_images_false/file_233.jpg', False]\n",
            "['./drive/MyDrive/street_view_images_false/file_59.jpg', False]\n",
            "['./drive/MyDrive/street_view_images_false/file_178.jpg', False]\n",
            "['./drive/MyDrive/street_view_images_false/file_409.jpg', False]\n",
            "['./drive/MyDrive/street_view_images_false/file_192.jpg', False]\n",
            "['./drive/MyDrive/street_view_images_false/file_353.jpg', False]\n",
            "['./drive/MyDrive/street_view_images_false/file_421.jpg', False]\n",
            "['./drive/MyDrive/street_view_images_false/file_390.jpg', True]\n",
            "['./drive/MyDrive/street_view_images_false/file_435.jpg', False]\n",
            "['./drive/MyDrive/street_view_images_false/file_187.jpg', False]\n",
            "['./drive/MyDrive/street_view_images_false/file_424.jpg', False]\n",
            "['./drive/MyDrive/street_view_images_false/file_342.jpg', False]\n",
            "['./drive/MyDrive/street_view_images_false/file_418.jpg', True]\n",
            "['./drive/MyDrive/street_view_images_false/file_236.jpg', False]\n",
            "['./drive/MyDrive/street_view_images_false/file_74.jpg', False]\n",
            "['./drive/MyDrive/street_view_images_false/file_60.jpg', False]\n",
            "['./drive/MyDrive/street_view_images_false/file_48.jpg', False]\n",
            "['./drive/MyDrive/street_view_images_false/file_222.jpg', False]\n",
            "['./drive/MyDrive/street_view_images_false/file_183.jpg', True]\n",
            "['./drive/MyDrive/street_view_images_false/file_196.jpg', False]\n",
            "['./drive/MyDrive/street_view_images_false/file_168.jpg', True]\n",
            "['./drive/MyDrive/street_view_images_false/file_381.jpg', False]\n",
            "['./drive/MyDrive/street_view_images_false/file_197.jpg', False]\n",
            "['./drive/MyDrive/street_view_images_false/file_430.jpg', False]\n",
            "['./drive/MyDrive/street_view_images_false/file_154.jpg', False]\n",
            "['./drive/MyDrive/street_view_images_false/file_395.jpg', False]\n",
            "['./drive/MyDrive/street_view_images_false/file_140.jpg', False]\n",
            "['./drive/MyDrive/street_view_images_false/file_356.jpg', False]\n",
            "['./drive/MyDrive/street_view_images_false/file_379.jpg', False]\n",
            "['./drive/MyDrive/street_view_images_false/file_268.jpg', False]\n",
            "['./drive/MyDrive/street_view_images_false/file_311.jpg', False]\n",
            "['./drive/MyDrive/street_view_images_false/file_166.jpg', True]\n",
            "['./drive/MyDrive/street_view_images_false/file_321.jpg', False]\n",
            "['./drive/MyDrive/street_view_images_false/file_39.jpg', False]\n",
            "['./drive/MyDrive/street_view_images_false/file_475.jpg', False]\n",
            "['./drive/MyDrive/street_view_images_false/file_378.jpg', True]\n",
            "['./drive/MyDrive/street_view_images_false/file_491.jpg', False]\n",
            "['./drive/MyDrive/street_view_images_false/file_295.jpg', False]\n",
            "['./drive/MyDrive/street_view_images_false/file_507.jpg', False]\n",
            "['./drive/MyDrive/street_view_images_false/file_384.jpg', False]\n",
            "['./drive/MyDrive/street_view_images_false/file_502.jpg', False]\n",
            "['./drive/MyDrive/street_view_images_false/file_354.jpg', False]\n",
            "['./drive/MyDrive/street_view_images_false/file_47.jpg', True]\n",
            "['./drive/MyDrive/street_view_images_false/file_27.jpg', False]\n",
            "['./drive/MyDrive/street_view_images_false/file_26.jpg', True]\n"
          ]
        }
      ]
    },
    {
      "cell_type": "markdown",
      "source": [
        "Write out results"
      ],
      "metadata": {
        "id": "z2_IeVUeYeX6"
      },
      "id": "z2_IeVUeYeX6"
    },
    {
      "cell_type": "code",
      "source": [
        "results_true['actual_value'] = True\n",
        "results_false['actual_value'] = False"
      ],
      "metadata": {
        "id": "0wMzS9x0GHNU"
      },
      "id": "0wMzS9x0GHNU",
      "execution_count": 124,
      "outputs": []
    },
    {
      "cell_type": "code",
      "source": [
        "results_concat = pd.concat([results_true, results_false], ignore_index=True)"
      ],
      "metadata": {
        "id": "Arru_csBX-ZE"
      },
      "id": "Arru_csBX-ZE",
      "execution_count": 125,
      "outputs": []
    },
    {
      "cell_type": "code",
      "source": [
        "results_concat.to_csv('./drive/MyDrive/results_concat.csv', index=False)"
      ],
      "metadata": {
        "id": "vVztK7EmYFr8"
      },
      "id": "vVztK7EmYFr8",
      "execution_count": 128,
      "outputs": []
    }
  ],
  "metadata": {
    "accelerator": "GPU",
    "colab": {
      "gpuType": "T4",
      "machine_shape": "hm",
      "provenance": []
    },
    "kernelspec": {
      "display_name": "Python 3",
      "name": "python3"
    },
    "language_info": {
      "codemirror_mode": {
        "name": "ipython",
        "version": 3
      },
      "file_extension": ".py",
      "mimetype": "text/x-python",
      "name": "python",
      "nbconvert_exporter": "python",
      "pygments_lexer": "ipython3",
      "version": "3.11.7"
    },
    "vscode": {
      "interpreter": {
        "hash": "81794d4967e6c3204c66dcd87b604927b115b27c00565d3d43f05ba2f3a2cb0d"
      }
    }
  },
  "nbformat": 4,
  "nbformat_minor": 5
}